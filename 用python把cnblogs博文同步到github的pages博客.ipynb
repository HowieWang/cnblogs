{
 "cells": [
  {
   "cell_type": "markdown",
   "metadata": {},
   "source": [
    "> 一直想动手把cnblogs的博客和github的同步一下，但是又懒得动手，还是用python解决吧！\n",
    "\n",
    "## 主要功能\n",
    "\n",
    "- 标题到标题\n",
    "- github中md文件的命名\n",
    "- 比较两个目录，变化的才同步\n",
    "- 分类标签的处理"
   ]
  },
  {
   "cell_type": "markdown",
   "metadata": {},
   "source": [
    "## 测试代码与文件读写"
   ]
  },
  {
   "cell_type": "code",
   "execution_count": 2,
   "metadata": {
    "collapsed": false
   },
   "outputs": [
    {
     "name": "stdout",
     "output_type": "stream",
     "text": [
      "<open file 'test/some.md', mode 'r' at 0x000000000399D150>\n"
     ]
    },
    {
     "ename": "TypeError",
     "evalue": "expected a string or other character buffer object",
     "output_type": "error",
     "traceback": [
      "\u001b[1;31m---------------------------------------------------------------------------\u001b[0m",
      "\u001b[1;31mTypeError\u001b[0m                                 Traceback (most recent call last)",
      "\u001b[1;32m<ipython-input-2-112df9e36d1c>\u001b[0m in \u001b[0;36m<module>\u001b[1;34m()\u001b[0m\n\u001b[0;32m      5\u001b[0m     \u001b[1;32mprint\u001b[0m \u001b[0mf\u001b[0m\u001b[1;33m\u001b[0m\u001b[0m\n\u001b[0;32m      6\u001b[0m     \u001b[1;32mwith\u001b[0m \u001b[0mopen\u001b[0m\u001b[1;33m(\u001b[0m\u001b[0mgithub_file\u001b[0m\u001b[1;33m,\u001b[0m \u001b[1;34m'w'\u001b[0m\u001b[1;33m)\u001b[0m \u001b[1;32mas\u001b[0m \u001b[0mgit_file\u001b[0m\u001b[1;33m:\u001b[0m\u001b[1;33m\u001b[0m\u001b[0m\n\u001b[1;32m----> 7\u001b[1;33m         \u001b[0mgit_file\u001b[0m\u001b[1;33m.\u001b[0m\u001b[0mwrite\u001b[0m\u001b[1;33m(\u001b[0m\u001b[0mf\u001b[0m\u001b[1;33m)\u001b[0m\u001b[1;33m\u001b[0m\u001b[0m\n\u001b[0m",
      "\u001b[1;31mTypeError\u001b[0m: expected a string or other character buffer object"
     ]
    }
   ],
   "source": [
    "# 标题直接转换就好，都用md格式的一个#的写法\n",
    "filename = 'test/some.md'\n",
    "github_file = 'test/github.md'\n",
    "with open(filename) as f:\n",
    "    print f\n",
    "    with open(github_file, 'w') as git_file:\n",
    "        git_file.write(f)\n"
   ]
  },
  {
   "cell_type": "code",
   "execution_count": 4,
   "metadata": {
    "collapsed": false
   },
   "outputs": [
    {
     "name": "stdout",
     "output_type": "stream",
     "text": [
      "# title我是个标题\n",
      "\n"
     ]
    }
   ],
   "source": [
    "# 标题直接转换就好，都用md格式的一个#的写法\n",
    "# 上面的文件操作不对，咱们改一下\n",
    "filename = 'test/some.md'\n",
    "github_file = 'test/github.md'\n",
    "with open(filename) as f:\n",
    "    print f.readline() # 只读了一行\n",
    "    with open(github_file, 'w') as git_file:\n",
    "        git_file.write(f.readline())\n"
   ]
  },
  {
   "cell_type": "markdown",
   "metadata": {},
   "source": [
    "我们肯定是想把所有行都写到新文件的，继续改"
   ]
  },
  {
   "cell_type": "code",
   "execution_count": 6,
   "metadata": {
    "collapsed": false
   },
   "outputs": [
    {
     "name": "stdout",
     "output_type": "stream",
     "text": [
      "# title我是个标题\n",
      "\n",
      "\n",
      "\n",
      "一些内容\n",
      "\n",
      "一些内容1\n",
      "\n",
      "一些内容2\n",
      "\n",
      "一些内容3\n"
     ]
    }
   ],
   "source": [
    "# 标题直接转换就好，都用md格式的一个#的写法\n",
    "# 上面的文件操作不对，咱们改一下\n",
    "filename = 'test/some.md'\n",
    "github_file = 'test/github.md'\n",
    "with open(filename) as f:\n",
    "    for line in f:\n",
    "        print line# 每一行\n",
    "        with open(github_file, 'w') as git_file: # w每次写会把前面的冲掉\n",
    "            git_file.write(line)"
   ]
  },
  {
   "cell_type": "code",
   "execution_count": 7,
   "metadata": {
    "collapsed": false
   },
   "outputs": [
    {
     "name": "stdout",
     "output_type": "stream",
     "text": [
      "# title我是个标题\n",
      "\n",
      "\n",
      "\n",
      "一些内容\n",
      "\n",
      "一些内容1\n",
      "\n",
      "一些内容2\n",
      "\n",
      "一些内容3\n"
     ]
    }
   ],
   "source": [
    "# 标题直接转换就好，都用md格式的一个#的写法\n",
    "# 上面的文件操作不对，咱们改一下\n",
    "filename = 'test/some.md'\n",
    "github_file = 'test/github.md'\n",
    "with open(filename) as f:\n",
    "    for line in f:\n",
    "        print line# 每一行\n",
    "        with open(github_file, 'a') as git_file: # w每次写会把前面的冲掉，改成a\n",
    "            git_file.write(line)"
   ]
  },
  {
   "cell_type": "markdown",
   "metadata": {},
   "source": [
    "基本搞定了，这时候需要真的转换了。\n",
    "\n",
    "## 转换标题\n",
    "也就是把cnblogs中的第一行#开头的一句话，编程github的jekyll语句的title开头的一句，加个if判断就好。\n"
   ]
  },
  {
   "cell_type": "code",
   "execution_count": 19,
   "metadata": {
    "collapsed": false
   },
   "outputs": [
    {
     "name": "stdout",
     "output_type": "stream",
     "text": [
      "# title我是个标题\n",
      "\n",
      "## 副标题应该不被认为是主标题\n",
      "\n",
      "一些内容\n",
      "\n",
      "一些内容1\n",
      "\n",
      "一些内容2\n",
      "\n",
      "一些内容3\n"
     ]
    }
   ],
   "source": [
    "filename = 'test/some.md'\n",
    "github_file = 'test/github.md'\n",
    "with open(filename) as f:\n",
    "    for line in f:\n",
    "        print line# 每一行\n",
    "        with open(github_file, 'a') as git_file: # w每次写会把前面的冲掉，改成a\n",
    "            # 判断标题\n",
    "            first_line = line.split(' ') # 默认就用一个空格区分标题的#和内容\n",
    "            if first_line[0] == '#':\n",
    "                git_file.write('title: ' + first_line[1])\n",
    "            else:\n",
    "                git_file.write(line)"
   ]
  }
 ],
 "metadata": {
  "kernelspec": {
   "display_name": "Python 2",
   "language": "python",
   "name": "python2"
  },
  "language_info": {
   "codemirror_mode": {
    "name": "ipython",
    "version": 2
   },
   "file_extension": ".py",
   "mimetype": "text/x-python",
   "name": "python",
   "nbconvert_exporter": "python",
   "pygments_lexer": "ipython2",
   "version": "2.7.11"
  }
 },
 "nbformat": 4,
 "nbformat_minor": 0
}
